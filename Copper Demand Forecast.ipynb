{
 "cells": [
  {
   "cell_type": "markdown",
   "metadata": {},
   "source": [
    "# Forecasting Copper Demand"
   ]
  },
  {
   "cell_type": "markdown",
   "metadata": {},
   "source": [
    "## Task"
   ]
  },
  {
   "cell_type": "markdown",
   "metadata": {},
   "source": [
    "Having an accurate, timely indicator of copper demand can be particularly useful for decision making/risk management purposes.\n",
    "\n",
    "Though there are no universally accepted copper demand series, commodity consultant Wood Mackenzie’s (WM) refined copper demand numbers are well-respected. Updates are dependent upon the release of their reports and it’s not always clear how quickly the latest updates are factored in to their own forecasts, how those forecasts have evolved, as well as how the forecasts themselves have been implemented.\n",
    "\n",
    "Demand forecasts can be generated from historical demand data itself and potentially supplemented through exogenous variables over a number of layers (from micro to macro). Updates to these variables can be used to supplement overall demand expectations as well as quantify the most important eco/data metrics, among other things.\n",
    "\n",
    "This project can of course balloon in size, but the below highlights some of the ways we might approach the task.\n",
    "\n",
    "To avoid getting overly bogged down in all the detailed decisions, there won't be a comment for every code line, but questions on any specifics are always welcome."
   ]
  },
  {
   "cell_type": "markdown",
   "metadata": {},
   "source": [
    "## Defining Underlying Demand"
   ]
  },
  {
   "cell_type": "markdown",
   "metadata": {},
   "source": [
    "The WM data we have is yearly (providing data from 1976-2040). We do however have a public monthly indicator for copper demand from the ICSG (data from Aug 2004 to April 2019) which is available through Wind. ICSG data is also split into 10 countries/regions on a monthly basis as well, which would be useful for more granular analyses. ICSG public data has a delay of around three months.\n",
    "\n",
    "Seasonality of ICSG can therefore be applied to WM data. We could just use ICSG data directly of course, but WM tends to be more widely recognised. In a more detailed project, we might investigate differences in WM and ICSG demand accounting as well.\n",
    "\n",
    "We could either apply overall seasonal trends to each year or apply the percentage contribution of each month to each year. The former would likely lose too much granularity, although with the latter the limitation is that the monthly weights could highlight inaccuracies or differences in methodologies. Either way, the result would be far better than any blind interpolation and we’ll go for the latter."
   ]
  },
  {
   "cell_type": "markdown",
   "metadata": {},
   "source": [
    "Typically we'd use packages we've created to import data directly from vendor APIs or local/remote databases, but for ease we've packaged data we've loaded the data into a csv for reference."
   ]
  },
  {
   "cell_type": "code",
   "execution_count": 2,
   "metadata": {},
   "outputs": [],
   "source": [
    "import pandas as pd\n",
    "import numpy as np\n",
    "import datetime as dt"
   ]
  },
  {
   "cell_type": "code",
   "execution_count": 4,
   "metadata": {},
   "outputs": [],
   "source": [
    "raw_data = pd.read_csv('data/demand.csv', index_col='Dates', parse_dates=True)"
   ]
  },
  {
   "cell_type": "markdown",
   "metadata": {},
   "source": [
    "We'll separate out the Yearly WM data and the Monthly ICSG data from the DataFrame and apply the seasonal trends of the latter to the former to create a monthly WM series.\n",
    "\n",
    "As we know ICSG monthly data doesnt go back as far, we'll use the start date from that series. For training and testing we’ll use data up to 2018 under the assumption that they include no or few forecast elements and the demand values are less likely to change meaningfully and are representative of actual demand."
   ]
  },
  {
   "cell_type": "code",
   "execution_count": 24,
   "metadata": {},
   "outputs": [],
   "source": [
    "start_date = raw_data['ICSG M'].dropna().first_valid_index() # Jan-15\n",
    "end_date = dt.datetime(2018, 12, 31)\n",
    "global_demand = raw_data[['WM Y', 'ICSG M']][start_date:end_date]\n",
    "global_demand['ICSG M%'] = global_demand['ICSG M'] / global_demand['ICSG M'].resample('Y').sum().resample('M').last().reindex(pd.date_range(start_date, end_date)).bfill()\n",
    "global_demand['WM M'] = global_demand['WM Y'].bfill() * global_demand['ICSG M%']"
   ]
  },
  {
   "cell_type": "code",
   "execution_count": 25,
   "metadata": {},
   "outputs": [
    {
     "data": {
      "text/html": [
       "<div>\n",
       "<style scoped>\n",
       "    .dataframe tbody tr th:only-of-type {\n",
       "        vertical-align: middle;\n",
       "    }\n",
       "\n",
       "    .dataframe tbody tr th {\n",
       "        vertical-align: top;\n",
       "    }\n",
       "\n",
       "    .dataframe thead th {\n",
       "        text-align: right;\n",
       "    }\n",
       "</style>\n",
       "<table border=\"1\" class=\"dataframe\">\n",
       "  <thead>\n",
       "    <tr style=\"text-align: right;\">\n",
       "      <th></th>\n",
       "      <th>WM Y</th>\n",
       "      <th>ICSG M</th>\n",
       "      <th>ICSG M%</th>\n",
       "      <th>WM M</th>\n",
       "    </tr>\n",
       "    <tr>\n",
       "      <th>Dates</th>\n",
       "      <th></th>\n",
       "      <th></th>\n",
       "      <th></th>\n",
       "      <th></th>\n",
       "    </tr>\n",
       "  </thead>\n",
       "  <tbody>\n",
       "    <tr>\n",
       "      <td>2005-01-31</td>\n",
       "      <td>NaN</td>\n",
       "      <td>1400.0</td>\n",
       "      <td>0.085039</td>\n",
       "      <td>1428.789759</td>\n",
       "    </tr>\n",
       "    <tr>\n",
       "      <td>2005-02-28</td>\n",
       "      <td>NaN</td>\n",
       "      <td>1252.0</td>\n",
       "      <td>0.076049</td>\n",
       "      <td>1277.746270</td>\n",
       "    </tr>\n",
       "    <tr>\n",
       "      <td>2005-03-31</td>\n",
       "      <td>NaN</td>\n",
       "      <td>1397.0</td>\n",
       "      <td>0.084857</td>\n",
       "      <td>1425.728067</td>\n",
       "    </tr>\n",
       "    <tr>\n",
       "      <td>2005-04-30</td>\n",
       "      <td>NaN</td>\n",
       "      <td>1361.0</td>\n",
       "      <td>0.082670</td>\n",
       "      <td>1388.987758</td>\n",
       "    </tr>\n",
       "    <tr>\n",
       "      <td>2005-05-31</td>\n",
       "      <td>NaN</td>\n",
       "      <td>1414.0</td>\n",
       "      <td>0.085890</td>\n",
       "      <td>1443.077656</td>\n",
       "    </tr>\n",
       "  </tbody>\n",
       "</table>\n",
       "</div>"
      ],
      "text/plain": [
       "            WM Y  ICSG M   ICSG M%         WM M\n",
       "Dates                                          \n",
       "2005-01-31   NaN  1400.0  0.085039  1428.789759\n",
       "2005-02-28   NaN  1252.0  0.076049  1277.746270\n",
       "2005-03-31   NaN  1397.0  0.084857  1425.728067\n",
       "2005-04-30   NaN  1361.0  0.082670  1388.987758\n",
       "2005-05-31   NaN  1414.0  0.085890  1443.077656"
      ]
     },
     "execution_count": 25,
     "metadata": {},
     "output_type": "execute_result"
    }
   ],
   "source": [
    "global_demand.head()"
   ]
  },
  {
   "cell_type": "markdown",
   "metadata": {},
   "source": [
    "## Diagnostics\n",
    "\n",
    "Now we have a monthly global demand series from WM. Lets run some diagnostic tests to understand the structure of the data a little better."
   ]
  },
  {
   "cell_type": "code",
   "execution_count": null,
   "metadata": {},
   "outputs": [],
   "source": []
  }
 ],
 "metadata": {
  "kernelspec": {
   "display_name": "Python 3",
   "language": "python",
   "name": "python3"
  },
  "language_info": {
   "codemirror_mode": {
    "name": "ipython",
    "version": 3
   },
   "file_extension": ".py",
   "mimetype": "text/x-python",
   "name": "python",
   "nbconvert_exporter": "python",
   "pygments_lexer": "ipython3",
   "version": "3.7.4"
  }
 },
 "nbformat": 4,
 "nbformat_minor": 2
}
