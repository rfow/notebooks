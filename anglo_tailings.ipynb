{
 "cells": [
  {
   "cell_type": "markdown",
   "metadata": {},
   "source": [
    "# Assessing Risk Levels of Tailings Dams\n",
    "\n",
    "The failure of Vale's Mina Córrego do Feijão tailings dam in January 2019 provided a further example of how important it is to provide effective oversight of tailings dams. Preventing further loss of life is paramount, with consequences for the environment also key, along with organisational reputation thereafter."
   ]
  },
  {
   "cell_type": "markdown",
   "metadata": {},
   "source": [
    "---"
   ]
  },
  {
   "cell_type": "markdown",
   "metadata": {},
   "source": [
    "## Data\n",
    "\n",
    "Anglo provide a list of their tailings dams (with details) on their [website](https://www.angloamerican.com/sustainability/tailings-summary/tailings-database) and there's an [online resource](https://worldminetailingsfailures.org/) that has compiled data on failures thus far.\n",
    "\n",
    "As ever, data isn't presented in an ideal way. Anglo's records are only available together as a pdf download and whilst the failure \"database\" is available in Excel, there's little structure. In both cases there are missing and/or inconsistent data for each record.\n",
    "\n",
    "For brevity, both have been partially processed and cleaned, with geolocation data a focus. Anglo provided some coordinates, which have been standardised, and geocoding (via Google's API) was used to process the address listed in the tailings failures data.\n",
    "\n",
    "Let's load the files and check them out"
   ]
  },
  {
   "cell_type": "code",
   "execution_count": 2,
   "metadata": {},
   "outputs": [],
   "source": [
    "import pandas as pd"
   ]
  },
  {
   "cell_type": "code",
   "execution_count": 13,
   "metadata": {},
   "outputs": [],
   "source": [
    "anglo_raw_data = pd.read_csv('data/anglo_tailings.csv', parse_dates=True)\n",
    "failures_raw_data = pd.read_csv('data/tailings_failures.csv', parse_dates=True)"
   ]
  },
  {
   "cell_type": "code",
   "execution_count": 14,
   "metadata": {},
   "outputs": [
    {
     "name": "stdout",
     "output_type": "stream",
     "text": [
      "<class 'pandas.core.frame.DataFrame'>\n",
      "RangeIndex: 91 entries, 0 to 90\n",
      "Data columns (total 19 columns):\n",
      "company_name                    90 non-null object\n",
      "managing_company                90 non-null object\n",
      "business_unit                   90 non-null object\n",
      "country                         90 non-null object\n",
      "operation                       90 non-null object\n",
      "latitude                        90 non-null float64\n",
      "longditude                      90 non-null float64\n",
      "status                          80 non-null object\n",
      "start_date                      88 non-null float64\n",
      "operation_status_as_designed    90 non-null object\n",
      "raising_method                  90 non-null object\n",
      "current_maximum                 80 non-null float64\n",
      "current_tailings                79 non-null object\n",
      "planned_tailings                79 non-null object\n",
      "last_review                     84 non-null float64\n",
      "full_records_available          89 non-null object\n",
      "failure_hazard                  88 non-null object\n",
      "previous_instability            90 non-null object\n",
      "failure_impact_assessment       77 non-null object\n",
      "dtypes: float64(5), object(14)\n",
      "memory usage: 13.6+ KB\n"
     ]
    }
   ],
   "source": [
    "anglo_raw_data.info()"
   ]
  },
  {
   "cell_type": "code",
   "execution_count": 15,
   "metadata": {},
   "outputs": [
    {
     "name": "stdout",
     "output_type": "stream",
     "text": [
      "<class 'pandas.core.frame.DataFrame'>\n",
      "RangeIndex: 354 entries, 0 to 353\n",
      "Data columns (total 25 columns):\n",
      "severity             253 non-null float64\n",
      "magnitude_index      247 non-null float64\n",
      "failure_locus        334 non-null float64\n",
      "facility_des         354 non-null object\n",
      "facility_loc         352 non-null object\n",
      "latitude             299 non-null float64\n",
      "longitude            299 non-null float64\n",
      "accuracy             299 non-null object\n",
      "google_place_id      299 non-null object\n",
      "type                 299 non-null object\n",
      "ore_type             322 non-null object\n",
      "dam_type             184 non-null object\n",
      "dam_fill_material    160 non-null object\n",
      "dam_height           173 non-null object\n",
      "storage_vol          86 non-null object\n",
      "ICOLD_type           335 non-null object\n",
      "ICOLD_key            330 non-null object\n",
      "ICOLD_cause          317 non-null object\n",
      "incident_year        352 non-null float64\n",
      "indident_date        243 non-null object\n",
      "release_volume       186 non-null float64\n",
      "runout_distance      76 non-null object\n",
      "deaths               59 non-null float64\n",
      "sources              349 non-null object\n",
      "notes                223 non-null object\n",
      "dtypes: float64(8), object(17)\n",
      "memory usage: 69.3+ KB\n"
     ]
    }
   ],
   "source": [
    "failures_raw_data.info()"
   ]
  },
  {
   "cell_type": "markdown",
   "metadata": {},
   "source": [
    "Lets get som general information about failures"
   ]
  },
  {
   "cell_type": "code",
   "execution_count": null,
   "metadata": {},
   "outputs": [],
   "source": []
  }
 ],
 "metadata": {
  "kernelspec": {
   "display_name": "Python 3",
   "language": "python",
   "name": "python3"
  },
  "language_info": {
   "codemirror_mode": {
    "name": "ipython",
    "version": 3
   },
   "file_extension": ".py",
   "mimetype": "text/x-python",
   "name": "python",
   "nbconvert_exporter": "python",
   "pygments_lexer": "ipython3",
   "version": "3.7.4"
  }
 },
 "nbformat": 4,
 "nbformat_minor": 2
}
